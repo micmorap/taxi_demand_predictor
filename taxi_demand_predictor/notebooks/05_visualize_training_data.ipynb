{
 "cells": [
  {
   "cell_type": "code",
   "execution_count": 6,
   "metadata": {},
   "outputs": [
    {
     "data": {
      "text/html": [
       "<div>\n",
       "<style scoped>\n",
       "    .dataframe tbody tr th:only-of-type {\n",
       "        vertical-align: middle;\n",
       "    }\n",
       "\n",
       "    .dataframe tbody tr th {\n",
       "        vertical-align: top;\n",
       "    }\n",
       "\n",
       "    .dataframe thead th {\n",
       "        text-align: right;\n",
       "    }\n",
       "</style>\n",
       "<table border=\"1\" class=\"dataframe\">\n",
       "  <thead>\n",
       "    <tr style=\"text-align: right;\">\n",
       "      <th></th>\n",
       "      <th>pickup_hour</th>\n",
       "      <th>rides</th>\n",
       "      <th>pickup_location_id</th>\n",
       "    </tr>\n",
       "  </thead>\n",
       "  <tbody>\n",
       "    <tr>\n",
       "      <th>0</th>\n",
       "      <td>2022-01-01 00:00:00</td>\n",
       "      <td>11</td>\n",
       "      <td>4</td>\n",
       "    </tr>\n",
       "    <tr>\n",
       "      <th>1</th>\n",
       "      <td>2022-01-01 01:00:00</td>\n",
       "      <td>15</td>\n",
       "      <td>4</td>\n",
       "    </tr>\n",
       "    <tr>\n",
       "      <th>2</th>\n",
       "      <td>2022-01-01 02:00:00</td>\n",
       "      <td>26</td>\n",
       "      <td>4</td>\n",
       "    </tr>\n",
       "    <tr>\n",
       "      <th>3</th>\n",
       "      <td>2022-01-01 03:00:00</td>\n",
       "      <td>8</td>\n",
       "      <td>4</td>\n",
       "    </tr>\n",
       "    <tr>\n",
       "      <th>4</th>\n",
       "      <td>2022-01-01 04:00:00</td>\n",
       "      <td>9</td>\n",
       "      <td>4</td>\n",
       "    </tr>\n",
       "    <tr>\n",
       "      <th>...</th>\n",
       "      <td>...</td>\n",
       "      <td>...</td>\n",
       "      <td>...</td>\n",
       "    </tr>\n",
       "    <tr>\n",
       "      <th>191203</th>\n",
       "      <td>2022-01-31 19:00:00</td>\n",
       "      <td>0</td>\n",
       "      <td>176</td>\n",
       "    </tr>\n",
       "    <tr>\n",
       "      <th>191204</th>\n",
       "      <td>2022-01-31 20:00:00</td>\n",
       "      <td>0</td>\n",
       "      <td>176</td>\n",
       "    </tr>\n",
       "    <tr>\n",
       "      <th>191205</th>\n",
       "      <td>2022-01-31 21:00:00</td>\n",
       "      <td>0</td>\n",
       "      <td>176</td>\n",
       "    </tr>\n",
       "    <tr>\n",
       "      <th>191206</th>\n",
       "      <td>2022-01-31 22:00:00</td>\n",
       "      <td>0</td>\n",
       "      <td>176</td>\n",
       "    </tr>\n",
       "    <tr>\n",
       "      <th>191207</th>\n",
       "      <td>2022-01-31 23:00:00</td>\n",
       "      <td>0</td>\n",
       "      <td>176</td>\n",
       "    </tr>\n",
       "  </tbody>\n",
       "</table>\n",
       "<p>191208 rows × 3 columns</p>\n",
       "</div>"
      ],
      "text/plain": [
       "               pickup_hour  rides  pickup_location_id\n",
       "0      2022-01-01 00:00:00     11                   4\n",
       "1      2022-01-01 01:00:00     15                   4\n",
       "2      2022-01-01 02:00:00     26                   4\n",
       "3      2022-01-01 03:00:00      8                   4\n",
       "4      2022-01-01 04:00:00      9                   4\n",
       "...                    ...    ...                 ...\n",
       "191203 2022-01-31 19:00:00      0                 176\n",
       "191204 2022-01-31 20:00:00      0                 176\n",
       "191205 2022-01-31 21:00:00      0                 176\n",
       "191206 2022-01-31 22:00:00      0                 176\n",
       "191207 2022-01-31 23:00:00      0                 176\n",
       "\n",
       "[191208 rows x 3 columns]"
      ]
     },
     "execution_count": 6,
     "metadata": {},
     "output_type": "execute_result"
    }
   ],
   "source": [
    "import pandas as pd\n",
    "from src.paths import TRANSFORMED_DATA_DIR\n",
    "\n",
    "features_and_target = pd.read_parquet(TRANSFORMED_DATA_DIR / 'ts_data_2022_01.parquet')\n",
    "\n",
    "\n",
    "features_and_target"
   ]
  },
  {
   "cell_type": "code",
   "execution_count": 2,
   "metadata": {},
   "outputs": [
    {
     "ename": "NameError",
     "evalue": "name 'features_and_target' is not defined",
     "output_type": "error",
     "traceback": [
      "\u001b[0;31m---------------------------------------------------------------------------\u001b[0m",
      "\u001b[0;31mNameError\u001b[0m                                 Traceback (most recent call last)",
      "\u001b[1;32m/Users/michaelandr/Desktop/Taxi_Prediction_Course_MLOps/taxi_demand_predictor/notebooks/05_visualize_training_data.ipynb Cell 3\u001b[0m line \u001b[0;36m1\n\u001b[0;32m----> <a href='vscode-notebook-cell:/Users/michaelandr/Desktop/Taxi_Prediction_Course_MLOps/taxi_demand_predictor/notebooks/05_visualize_training_data.ipynb#W2sZmlsZQ%3D%3D?line=0'>1</a>\u001b[0m features \u001b[39m=\u001b[39m features_and_target\u001b[39m.\u001b[39mdrop(columns\u001b[39m=\u001b[39m[\u001b[39m'\u001b[39m\u001b[39mtarget_rides_next_hour\u001b[39m\u001b[39m'\u001b[39m])\n\u001b[1;32m      <a href='vscode-notebook-cell:/Users/michaelandr/Desktop/Taxi_Prediction_Course_MLOps/taxi_demand_predictor/notebooks/05_visualize_training_data.ipynb#W2sZmlsZQ%3D%3D?line=1'>2</a>\u001b[0m targets \u001b[39m=\u001b[39m features_and_target[\u001b[39m'\u001b[39m\u001b[39mtarget_rides_next_hour\u001b[39m\u001b[39m'\u001b[39m]\n",
      "\u001b[0;31mNameError\u001b[0m: name 'features_and_target' is not defined"
     ]
    }
   ],
   "source": [
    "features = features_and_target.drop(columns=['target_rides_next_hour'])\n",
    "targets = features_and_target['target_rides_next_hour']"
   ]
  },
  {
   "cell_type": "code",
   "execution_count": 3,
   "metadata": {},
   "outputs": [
    {
     "ename": "ModuleNotFoundError",
     "evalue": "No module named 'src.plot'",
     "output_type": "error",
     "traceback": [
      "\u001b[0;31m---------------------------------------------------------------------------\u001b[0m",
      "\u001b[0;31mModuleNotFoundError\u001b[0m                       Traceback (most recent call last)",
      "\u001b[1;32m/Users/michaelandr/Desktop/Taxi_Prediction_Course_MLOps/taxi_demand_predictor/notebooks/05_visualize_training_data.ipynb Cell 4\u001b[0m line \u001b[0;36m1\n\u001b[0;32m----> <a href='vscode-notebook-cell:/Users/michaelandr/Desktop/Taxi_Prediction_Course_MLOps/taxi_demand_predictor/notebooks/05_visualize_training_data.ipynb#W3sZmlsZQ%3D%3D?line=0'>1</a>\u001b[0m \u001b[39mfrom\u001b[39;00m \u001b[39msrc\u001b[39;00m\u001b[39m.\u001b[39;00m\u001b[39mplot\u001b[39;00m \u001b[39mimport\u001b[39;00m plot_one_sample\n\u001b[1;32m      <a href='vscode-notebook-cell:/Users/michaelandr/Desktop/Taxi_Prediction_Course_MLOps/taxi_demand_predictor/notebooks/05_visualize_training_data.ipynb#W3sZmlsZQ%3D%3D?line=2'>3</a>\u001b[0m plot_one_sample(\n\u001b[1;32m      <a href='vscode-notebook-cell:/Users/michaelandr/Desktop/Taxi_Prediction_Course_MLOps/taxi_demand_predictor/notebooks/05_visualize_training_data.ipynb#W3sZmlsZQ%3D%3D?line=3'>4</a>\u001b[0m     example_id\u001b[39m=\u001b[39m\u001b[39m0\u001b[39m,\n\u001b[1;32m      <a href='vscode-notebook-cell:/Users/michaelandr/Desktop/Taxi_Prediction_Course_MLOps/taxi_demand_predictor/notebooks/05_visualize_training_data.ipynb#W3sZmlsZQ%3D%3D?line=4'>5</a>\u001b[0m     features\u001b[39m=\u001b[39mfeatures,\n\u001b[1;32m      <a href='vscode-notebook-cell:/Users/michaelandr/Desktop/Taxi_Prediction_Course_MLOps/taxi_demand_predictor/notebooks/05_visualize_training_data.ipynb#W3sZmlsZQ%3D%3D?line=5'>6</a>\u001b[0m     targets\u001b[39m=\u001b[39mtargets,\n\u001b[1;32m      <a href='vscode-notebook-cell:/Users/michaelandr/Desktop/Taxi_Prediction_Course_MLOps/taxi_demand_predictor/notebooks/05_visualize_training_data.ipynb#W3sZmlsZQ%3D%3D?line=6'>7</a>\u001b[0m )\n",
      "\u001b[0;31mModuleNotFoundError\u001b[0m: No module named 'src.plot'"
     ]
    }
   ],
   "source": [
    "from src.plot import plot_one_sample\n",
    "\n",
    "plot_one_sample(\n",
    "    example_id=0,\n",
    "    features=features,\n",
    "    targets=targets,\n",
    ")"
   ]
  }
 ],
 "metadata": {
  "kernelspec": {
   "display_name": "Python 3",
   "language": "python",
   "name": "python3"
  },
  "language_info": {
   "codemirror_mode": {
    "name": "ipython",
    "version": 3
   },
   "file_extension": ".py",
   "mimetype": "text/x-python",
   "name": "python",
   "nbconvert_exporter": "python",
   "pygments_lexer": "ipython3",
   "version": "3.10.11"
  }
 },
 "nbformat": 4,
 "nbformat_minor": 2
}
