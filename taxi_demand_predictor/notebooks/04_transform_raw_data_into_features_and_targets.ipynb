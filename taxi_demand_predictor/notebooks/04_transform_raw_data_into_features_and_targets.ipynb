{
 "cells": [
  {
   "cell_type": "code",
   "execution_count": 2,
   "metadata": {},
   "outputs": [],
   "source": [
    "%reload_ext autoreload\n",
    "%autoreload 2"
   ]
  },
  {
   "cell_type": "code",
   "execution_count": 9,
   "metadata": {},
   "outputs": [],
   "source": [
    "from src.data import load_raw_data\n",
    "from src import paths\n",
    "import pandas as pd"
   ]
  },
  {
   "cell_type": "code",
   "execution_count": 12,
   "metadata": {},
   "outputs": [
    {
     "name": "stdout",
     "output_type": "stream",
     "text": [
      "File 2021-01 was already in local storage\n",
      "File 2021-02 was already in local storage\n",
      "File 2021-03 was already in local storage\n",
      "File 2021-04 was already in local storage\n",
      "File 2021-05 was already in local storage\n",
      "File 2021-06 was already in local storage\n",
      "File 2021-07 was already in local storage\n",
      "File 2021-08 was already in local storage\n",
      "File 2021-09 was already in local storage\n",
      "File 2021-10 was already in local storage\n",
      "File 2021-11 was already in local storage\n",
      "File 2021-12 was already in local storage\n",
      "File 2022-01 was already in local storage\n",
      "File 2022-02 was already in local storage\n",
      "File 2022-03 was already in local storage\n",
      "File 2022-04 was already in local storage\n",
      "File 2022-05 was already in local storage\n",
      "File 2022-06 was already in local storage\n",
      "File 2022-07 was already in local storage\n",
      "File 2022-08 was already in local storage\n",
      "File 2022-09 was already in local storage\n",
      "File 2022-10 was already in local storage\n",
      "File 2022-11 was already in local storage\n",
      "File 2022-12 was already in local storage\n"
     ]
    }
   ],
   "source": [
    "rides_2021 = load_raw_data(2021)\n",
    "rides_2022 = load_raw_data(2022)\n",
    "rides = pd.concat([rides_2021, rides_2022])"
   ]
  },
  {
   "cell_type": "code",
   "execution_count": 13,
   "metadata": {},
   "outputs": [],
   "source": [
    "from src.data import transform_raw_data_into_ts_data"
   ]
  },
  {
   "cell_type": "code",
   "execution_count": 14,
   "metadata": {},
   "outputs": [
    {
     "name": "stderr",
     "output_type": "stream",
     "text": [
      "/Users/michaelandr/Desktop/Taxi_Prediction_Course_MLOps/taxi_demand_predictor/src/data.py:193: FutureWarning: 'H' is deprecated and will be removed in a future version, please use 'h' instead.\n",
      "  rides['pickup_hour'] = rides['pickup_datetime'].dt.floor('H')\n",
      "/Users/michaelandr/Desktop/Taxi_Prediction_Course_MLOps/taxi_demand_predictor/src/data.py:156: FutureWarning: 'H' is deprecated and will be removed in a future version, please use 'h' instead.\n",
      "  full_range = pd.date_range(ts_data['pickup_hour'].min(),\n",
      "100%|██████████| 265/265 [00:03<00:00, 71.47it/s]\n"
     ]
    },
    {
     "data": {
      "text/plain": [
       "(4642800, 3)"
      ]
     },
     "execution_count": 14,
     "metadata": {},
     "output_type": "execute_result"
    }
   ],
   "source": [
    "ts_data = transform_raw_data_into_ts_data(rides)\n",
    "ts_data.head(8)\n",
    "ts_data.shape"
   ]
  },
  {
   "cell_type": "code",
   "execution_count": 19,
   "metadata": {},
   "outputs": [
    {
     "name": "stderr",
     "output_type": "stream",
     "text": [
      "100%|██████████| 265/265 [00:24<00:00, 10.69it/s]"
     ]
    },
    {
     "name": "stdout",
     "output_type": "stream",
     "text": [
      "(186030, 674)\n",
      "(186030,)\n"
     ]
    },
    {
     "name": "stderr",
     "output_type": "stream",
     "text": [
      "\n"
     ]
    }
   ],
   "source": [
    "from src.data import transform_ts_data_into_features_and_target\n",
    "\n",
    "features, targets = transform_ts_data_into_features_and_target(\n",
    "    ts_data,\n",
    "    input_seq_len= 24*28*1, # to just one week\n",
    "    step_size=24\n",
    ")\n",
    "\n",
    "print(features.shape)\n",
    "print(targets.shape)"
   ]
  },
  {
   "cell_type": "code",
   "execution_count": 17,
   "metadata": {},
   "outputs": [
    {
     "name": "stdout",
     "output_type": "stream",
     "text": [
      "Index(['rides_previous_168_hour', 'rides_previous_167_hour',\n",
      "       'rides_previous_166_hour', 'rides_previous_165_hour',\n",
      "       'rides_previous_164_hour', 'rides_previous_163_hour',\n",
      "       'rides_previous_162_hour', 'rides_previous_161_hour',\n",
      "       'rides_previous_160_hour', 'rides_previous_159_hour',\n",
      "       ...\n",
      "       'rides_previous_8_hour', 'rides_previous_7_hour',\n",
      "       'rides_previous_6_hour', 'rides_previous_5_hour',\n",
      "       'rides_previous_4_hour', 'rides_previous_3_hour',\n",
      "       'rides_previous_2_hour', 'rides_previous_1_hour', 'pickup_hour',\n",
      "       'pickup_location_id'],\n",
      "      dtype='object', length=170)\n"
     ]
    }
   ],
   "source": [
    "print(features.columns)\n",
    "#print(targets.columns)\n",
    "\n"
   ]
  },
  {
   "cell_type": "code",
   "execution_count": 20,
   "metadata": {},
   "outputs": [],
   "source": [
    "tabular_data = features\n",
    "tabular_data['target_rides_next_hour'] = targets\n",
    "\n",
    "from src.paths import TRANSFORMED_DATA_DIR\n",
    "\n",
    "tabular_data.to_parquet(TRANSFORMED_DATA_DIR / 'tabular_data.parquet')"
   ]
  },
  {
   "cell_type": "code",
   "execution_count": null,
   "metadata": {},
   "outputs": [],
   "source": []
  },
  {
   "cell_type": "code",
   "execution_count": null,
   "metadata": {},
   "outputs": [],
   "source": []
  },
  {
   "cell_type": "code",
   "execution_count": null,
   "metadata": {},
   "outputs": [],
   "source": []
  }
 ],
 "metadata": {
  "kernelspec": {
   "display_name": "src-izihmBiT-py3.10",
   "language": "python",
   "name": "python3"
  },
  "language_info": {
   "codemirror_mode": {
    "name": "ipython",
    "version": 3
   },
   "file_extension": ".py",
   "mimetype": "text/x-python",
   "name": "python",
   "nbconvert_exporter": "python",
   "pygments_lexer": "ipython3",
   "version": "3.10.11"
  }
 },
 "nbformat": 4,
 "nbformat_minor": 2
}
